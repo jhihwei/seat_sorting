{
 "cells": [
  {
   "cell_type": "code",
   "execution_count": 21,
   "metadata": {},
   "outputs": [],
   "source": [
    "from os import getenv\n",
    "import json\n",
    "import jinja2\n",
    "import pymssql\n",
    "from dotenv import load_dotenv\n",
    "from flask import Flask, render_template, jsonify\n",
    "from weasyprint import HTML\n",
    "import numpy as np\n",
    "import pandas as pd\n",
    "from collections import deque\n"
   ]
  },
  {
   "cell_type": "code",
   "execution_count": 22,
   "metadata": {},
   "outputs": [],
   "source": [
    "data = {}\n",
    "id = '1001'\n",
    "seat_table_df = pd.DataFrame()\n",
    "\n",
    "with open('data.json', encoding='utf8') as json_file:\n",
    "    data = json.load(json_file)\n",
    "\n",
    "temp_data = data[id]\n",
    "room_id = temp_data[0][3]\n",
    "row_count = int(temp_data[0][5])\n",
    "col_count = int(temp_data[0][6])\n"
   ]
  },
  {
   "cell_type": "code",
   "execution_count": 23,
   "metadata": {},
   "outputs": [
    {
     "name": "stdout",
     "output_type": "stream",
     "text": [
      "   第1排  第2排  第3排  第4排  第5排  第6排  第7排  第8排  第9排 第10排\n",
      "1  NaN  NaN  NaN  NaN  NaN  NaN  NaN  NaN  NaN  NaN\n",
      "2  NaN  NaN  NaN  NaN  NaN  NaN  NaN  NaN  NaN  NaN\n",
      "3  NaN  NaN  NaN  NaN  NaN  NaN  NaN  NaN  NaN  NaN\n",
      "4  NaN  NaN  NaN  NaN  NaN  NaN  NaN  NaN  NaN  NaN\n",
      "5  NaN  NaN  NaN  NaN  NaN  NaN  NaN  NaN  NaN  NaN\n",
      "6  NaN  NaN  NaN  NaN  NaN  NaN  NaN  NaN  NaN  NaN\n"
     ]
    }
   ],
   "source": [
    "row_index = [i+1 for i in range(row_count)]\n",
    "col_index = [f'第{i+1}排' for i in range(col_count)]\n",
    "seat_table_df = pd.DataFrame(np.arange(0, col_count*row_count).reshape(\n",
    "    (col_count, row_count)), columns=[row_index], index=col_index).T\n",
    "print(seat_table_df)"
   ]
  },
  {
   "cell_type": "code",
   "execution_count": 24,
   "metadata": {},
   "outputs": [],
   "source": [
    "stud_list = deque()\n",
    "for i in data[id]:\n",
    "    stud_list.appendleft(f'{i[1]}')\n"
   ]
  },
  {
   "cell_type": "code",
   "execution_count": 25,
   "metadata": {},
   "outputs": [
    {
     "name": "stdout",
     "output_type": "stream",
     "text": [
      "   第1排  第2排  第3排  第4排  第5排  第6排  第7排  第8排  第9排 第10排\n",
      "1  NaN  NaN  NaN  NaN  NaN  NaN  NaN  NaN  NaN  NaN\n",
      "2  NaN  NaN  NaN  NaN  NaN  NaN  NaN  NaN  NaN  NaN\n",
      "3  NaN  NaN  NaN  NaN  NaN  NaN  NaN  NaN  NaN  NaN\n",
      "4  NaN  NaN  NaN  NaN  NaN  NaN  NaN  NaN  NaN  NaN\n",
      "5  NaN  NaN  NaN  NaN  NaN  NaN  NaN  NaN  NaN  NaN\n",
      "6  NaN  NaN  NaN  NaN  NaN  NaN  NaN  NaN  NaN  NaN\n"
     ]
    }
   ],
   "source": [
    "for i in range(row_count*col_count):\n",
    "    if stud_list:\n",
    "        if i % 2 == 0:\n",
    "            seat_table_df.replace(\n",
    "                i,\n",
    "                stud_list.pop(), inplace=True)\n",
    "        else:\n",
    "            seat_table_df.replace(\n",
    "                i,\n",
    "                '', inplace=True)\n",
    "    else:\n",
    "        seat_table_df.replace(\n",
    "            i,\n",
    "            '', inplace=True)\n",
    "if row_count % 2 == 0:\n",
    "    for i in range(2,col_count+1,2):\n",
    "        seat_table_df[f'第{i}排'] = seat_table_df[f'第{i}排'].shift(1)\n",
    "print(seat_table_df)\n",
    "\n"
   ]
  }
 ],
 "metadata": {
  "interpreter": {
   "hash": "9250f6c41613c93152969a5e93567239e84899e37603caddda6f99f46fb00b64"
  },
  "kernelspec": {
   "display_name": "Python 3.9.7 64-bit ('venv': venv)",
   "language": "python",
   "name": "python3"
  },
  "language_info": {
   "codemirror_mode": {
    "name": "ipython",
    "version": 3
   },
   "file_extension": ".py",
   "mimetype": "text/x-python",
   "name": "python",
   "nbconvert_exporter": "python",
   "pygments_lexer": "ipython3",
   "version": "3.9.7"
  },
  "orig_nbformat": 4
 },
 "nbformat": 4,
 "nbformat_minor": 2
}
